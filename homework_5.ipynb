{
 "cells": [
  {
   "cell_type": "markdown",
   "id": "8b6a37ff-edfa-423e-9a66-7892e0e25ca2",
   "metadata": {},
   "source": [
    "<h1>Titantic Survival Classifier</h1>\n",
    "<p>Haley Johnson, SI 370 Homework 5</p>\n",
    "\n",
    "<ul>\n",
    "    <li><a href = \"https://www.kaggle.com/competitions/titanic/overview\">Kaggle Competition</a></li>\n",
    "    <li><a href = \"https://github.com/haleyej/SI_370_homework_5\">GitHub Repo</a></li>\n",
    "</ul>"
   ]
  },
  {
   "cell_type": "code",
   "execution_count": 1,
   "id": "5c0411dd-058d-4785-8cd8-7da224e110a8",
   "metadata": {},
   "outputs": [],
   "source": [
    "import pandas as pd\n",
    "import numpy as np\n",
    "import seaborn as sns\n",
    "import matplotlib.pyplot as plt\n",
    "\n",
    "from sklearn.model_selection import train_test_split, GridSearchCV\n",
    "from sklearn.compose import ColumnTransformer\n",
    "from sklearn.preprocessing import OneHotEncoder, StandardScaler\n",
    "from sklearn.metrics import r2_score, accuracy_score, confusion_matrix\n",
    "\n",
    "from sklearn.linear_model import LogisticRegression\n",
    "from sklearn.neighbors import KNeighborsClassifier\n",
    "from sklearn.ensemble import RandomForestClassifier, VotingClassifier\n",
    "from sklearn.naive_bayes import GaussianNB"
   ]
  },
  {
   "cell_type": "code",
   "execution_count": 2,
   "id": "cc613d4e-bc3e-425f-8c8b-821aa43f0c1f",
   "metadata": {},
   "outputs": [],
   "source": [
    "sns.set(style = 'darkgrid', context = 'notebook')"
   ]
  },
  {
   "cell_type": "markdown",
   "id": "ee9bca72-5789-4338-a8f3-c0b293aadaf3",
   "metadata": {},
   "source": [
    "<h2>Exploratory Data Analysis</h2>"
   ]
  },
  {
   "cell_type": "code",
   "execution_count": 3,
   "id": "bd54eb3c-da54-4809-becc-1d31efd28782",
   "metadata": {},
   "outputs": [],
   "source": [
    "df = pd.read_csv(\"data/train.csv\")"
   ]
  },
  {
   "cell_type": "markdown",
   "id": "2d5efd55-5723-4503-a0c7-25a067e41c89",
   "metadata": {},
   "source": [
    "<p><b>p class:</b> the passenger's ticket class</p>\n",
    "<p><b>sibsp:</b> number of siblings / spouses aboard</p>\n",
    "<p><b>parch:</b> number of parents / children aboard</p>\n",
    "<p><b>embarked:</b> port where passenger got on the ship</p>\n",
    "<ul>\n",
    "    <li><b>c:</b> cherbourg</li>\n",
    "    <li><b>q:</b> queenstown</li>\n",
    "    <li><b>s:</b> south hampton</li>\n",
    "</ul>"
   ]
  },
  {
   "cell_type": "code",
   "execution_count": 4,
   "id": "450d9b6d-b85b-4519-847a-684397aefd82",
   "metadata": {},
   "outputs": [
    {
     "data": {
      "text/html": [
       "<div>\n",
       "<style scoped>\n",
       "    .dataframe tbody tr th:only-of-type {\n",
       "        vertical-align: middle;\n",
       "    }\n",
       "\n",
       "    .dataframe tbody tr th {\n",
       "        vertical-align: top;\n",
       "    }\n",
       "\n",
       "    .dataframe thead th {\n",
       "        text-align: right;\n",
       "    }\n",
       "</style>\n",
       "<table border=\"1\" class=\"dataframe\">\n",
       "  <thead>\n",
       "    <tr style=\"text-align: right;\">\n",
       "      <th></th>\n",
       "      <th>PassengerId</th>\n",
       "      <th>Survived</th>\n",
       "      <th>Pclass</th>\n",
       "      <th>Name</th>\n",
       "      <th>Sex</th>\n",
       "      <th>Age</th>\n",
       "      <th>SibSp</th>\n",
       "      <th>Parch</th>\n",
       "      <th>Ticket</th>\n",
       "      <th>Fare</th>\n",
       "      <th>Cabin</th>\n",
       "      <th>Embarked</th>\n",
       "    </tr>\n",
       "  </thead>\n",
       "  <tbody>\n",
       "    <tr>\n",
       "      <th>0</th>\n",
       "      <td>1</td>\n",
       "      <td>0</td>\n",
       "      <td>3</td>\n",
       "      <td>Braund, Mr. Owen Harris</td>\n",
       "      <td>male</td>\n",
       "      <td>22.0</td>\n",
       "      <td>1</td>\n",
       "      <td>0</td>\n",
       "      <td>A/5 21171</td>\n",
       "      <td>7.2500</td>\n",
       "      <td>NaN</td>\n",
       "      <td>S</td>\n",
       "    </tr>\n",
       "    <tr>\n",
       "      <th>1</th>\n",
       "      <td>2</td>\n",
       "      <td>1</td>\n",
       "      <td>1</td>\n",
       "      <td>Cumings, Mrs. John Bradley (Florence Briggs Th...</td>\n",
       "      <td>female</td>\n",
       "      <td>38.0</td>\n",
       "      <td>1</td>\n",
       "      <td>0</td>\n",
       "      <td>PC 17599</td>\n",
       "      <td>71.2833</td>\n",
       "      <td>C85</td>\n",
       "      <td>C</td>\n",
       "    </tr>\n",
       "    <tr>\n",
       "      <th>2</th>\n",
       "      <td>3</td>\n",
       "      <td>1</td>\n",
       "      <td>3</td>\n",
       "      <td>Heikkinen, Miss. Laina</td>\n",
       "      <td>female</td>\n",
       "      <td>26.0</td>\n",
       "      <td>0</td>\n",
       "      <td>0</td>\n",
       "      <td>STON/O2. 3101282</td>\n",
       "      <td>7.9250</td>\n",
       "      <td>NaN</td>\n",
       "      <td>S</td>\n",
       "    </tr>\n",
       "    <tr>\n",
       "      <th>3</th>\n",
       "      <td>4</td>\n",
       "      <td>1</td>\n",
       "      <td>1</td>\n",
       "      <td>Futrelle, Mrs. Jacques Heath (Lily May Peel)</td>\n",
       "      <td>female</td>\n",
       "      <td>35.0</td>\n",
       "      <td>1</td>\n",
       "      <td>0</td>\n",
       "      <td>113803</td>\n",
       "      <td>53.1000</td>\n",
       "      <td>C123</td>\n",
       "      <td>S</td>\n",
       "    </tr>\n",
       "    <tr>\n",
       "      <th>4</th>\n",
       "      <td>5</td>\n",
       "      <td>0</td>\n",
       "      <td>3</td>\n",
       "      <td>Allen, Mr. William Henry</td>\n",
       "      <td>male</td>\n",
       "      <td>35.0</td>\n",
       "      <td>0</td>\n",
       "      <td>0</td>\n",
       "      <td>373450</td>\n",
       "      <td>8.0500</td>\n",
       "      <td>NaN</td>\n",
       "      <td>S</td>\n",
       "    </tr>\n",
       "  </tbody>\n",
       "</table>\n",
       "</div>"
      ],
      "text/plain": [
       "   PassengerId  Survived  Pclass  \\\n",
       "0            1         0       3   \n",
       "1            2         1       1   \n",
       "2            3         1       3   \n",
       "3            4         1       1   \n",
       "4            5         0       3   \n",
       "\n",
       "                                                Name     Sex   Age  SibSp  \\\n",
       "0                            Braund, Mr. Owen Harris    male  22.0      1   \n",
       "1  Cumings, Mrs. John Bradley (Florence Briggs Th...  female  38.0      1   \n",
       "2                             Heikkinen, Miss. Laina  female  26.0      0   \n",
       "3       Futrelle, Mrs. Jacques Heath (Lily May Peel)  female  35.0      1   \n",
       "4                           Allen, Mr. William Henry    male  35.0      0   \n",
       "\n",
       "   Parch            Ticket     Fare Cabin Embarked  \n",
       "0      0         A/5 21171   7.2500   NaN        S  \n",
       "1      0          PC 17599  71.2833   C85        C  \n",
       "2      0  STON/O2. 3101282   7.9250   NaN        S  \n",
       "3      0            113803  53.1000  C123        S  \n",
       "4      0            373450   8.0500   NaN        S  "
      ]
     },
     "execution_count": 4,
     "metadata": {},
     "output_type": "execute_result"
    }
   ],
   "source": [
    "df.head()"
   ]
  },
  {
   "cell_type": "code",
   "execution_count": 5,
   "id": "a34239fc-69ce-4118-822d-d62da5e9aa40",
   "metadata": {},
   "outputs": [
    {
     "data": {
      "text/plain": [
       "(891, 12)"
      ]
     },
     "execution_count": 5,
     "metadata": {},
     "output_type": "execute_result"
    }
   ],
   "source": [
    "df.shape"
   ]
  },
  {
   "cell_type": "code",
   "execution_count": 6,
   "id": "7148eae0-d6bd-4e72-82c8-3f2f0f303fce",
   "metadata": {},
   "outputs": [
    {
     "data": {
      "text/html": [
       "<div>\n",
       "<style scoped>\n",
       "    .dataframe tbody tr th:only-of-type {\n",
       "        vertical-align: middle;\n",
       "    }\n",
       "\n",
       "    .dataframe tbody tr th {\n",
       "        vertical-align: top;\n",
       "    }\n",
       "\n",
       "    .dataframe thead th {\n",
       "        text-align: right;\n",
       "    }\n",
       "</style>\n",
       "<table border=\"1\" class=\"dataframe\">\n",
       "  <thead>\n",
       "    <tr style=\"text-align: right;\">\n",
       "      <th></th>\n",
       "      <th>count</th>\n",
       "      <th>mean</th>\n",
       "      <th>std</th>\n",
       "      <th>min</th>\n",
       "      <th>25%</th>\n",
       "      <th>50%</th>\n",
       "      <th>75%</th>\n",
       "      <th>max</th>\n",
       "    </tr>\n",
       "  </thead>\n",
       "  <tbody>\n",
       "    <tr>\n",
       "      <th>PassengerId</th>\n",
       "      <td>891.0</td>\n",
       "      <td>446.000000</td>\n",
       "      <td>257.353842</td>\n",
       "      <td>1.00</td>\n",
       "      <td>223.5000</td>\n",
       "      <td>446.0000</td>\n",
       "      <td>668.5</td>\n",
       "      <td>891.0000</td>\n",
       "    </tr>\n",
       "    <tr>\n",
       "      <th>Survived</th>\n",
       "      <td>891.0</td>\n",
       "      <td>0.383838</td>\n",
       "      <td>0.486592</td>\n",
       "      <td>0.00</td>\n",
       "      <td>0.0000</td>\n",
       "      <td>0.0000</td>\n",
       "      <td>1.0</td>\n",
       "      <td>1.0000</td>\n",
       "    </tr>\n",
       "    <tr>\n",
       "      <th>Pclass</th>\n",
       "      <td>891.0</td>\n",
       "      <td>2.308642</td>\n",
       "      <td>0.836071</td>\n",
       "      <td>1.00</td>\n",
       "      <td>2.0000</td>\n",
       "      <td>3.0000</td>\n",
       "      <td>3.0</td>\n",
       "      <td>3.0000</td>\n",
       "    </tr>\n",
       "    <tr>\n",
       "      <th>Age</th>\n",
       "      <td>714.0</td>\n",
       "      <td>29.699118</td>\n",
       "      <td>14.526497</td>\n",
       "      <td>0.42</td>\n",
       "      <td>20.1250</td>\n",
       "      <td>28.0000</td>\n",
       "      <td>38.0</td>\n",
       "      <td>80.0000</td>\n",
       "    </tr>\n",
       "    <tr>\n",
       "      <th>SibSp</th>\n",
       "      <td>891.0</td>\n",
       "      <td>0.523008</td>\n",
       "      <td>1.102743</td>\n",
       "      <td>0.00</td>\n",
       "      <td>0.0000</td>\n",
       "      <td>0.0000</td>\n",
       "      <td>1.0</td>\n",
       "      <td>8.0000</td>\n",
       "    </tr>\n",
       "    <tr>\n",
       "      <th>Parch</th>\n",
       "      <td>891.0</td>\n",
       "      <td>0.381594</td>\n",
       "      <td>0.806057</td>\n",
       "      <td>0.00</td>\n",
       "      <td>0.0000</td>\n",
       "      <td>0.0000</td>\n",
       "      <td>0.0</td>\n",
       "      <td>6.0000</td>\n",
       "    </tr>\n",
       "    <tr>\n",
       "      <th>Fare</th>\n",
       "      <td>891.0</td>\n",
       "      <td>32.204208</td>\n",
       "      <td>49.693429</td>\n",
       "      <td>0.00</td>\n",
       "      <td>7.9104</td>\n",
       "      <td>14.4542</td>\n",
       "      <td>31.0</td>\n",
       "      <td>512.3292</td>\n",
       "    </tr>\n",
       "  </tbody>\n",
       "</table>\n",
       "</div>"
      ],
      "text/plain": [
       "             count        mean         std   min       25%       50%    75%  \\\n",
       "PassengerId  891.0  446.000000  257.353842  1.00  223.5000  446.0000  668.5   \n",
       "Survived     891.0    0.383838    0.486592  0.00    0.0000    0.0000    1.0   \n",
       "Pclass       891.0    2.308642    0.836071  1.00    2.0000    3.0000    3.0   \n",
       "Age          714.0   29.699118   14.526497  0.42   20.1250   28.0000   38.0   \n",
       "SibSp        891.0    0.523008    1.102743  0.00    0.0000    0.0000    1.0   \n",
       "Parch        891.0    0.381594    0.806057  0.00    0.0000    0.0000    0.0   \n",
       "Fare         891.0   32.204208   49.693429  0.00    7.9104   14.4542   31.0   \n",
       "\n",
       "                  max  \n",
       "PassengerId  891.0000  \n",
       "Survived       1.0000  \n",
       "Pclass         3.0000  \n",
       "Age           80.0000  \n",
       "SibSp          8.0000  \n",
       "Parch          6.0000  \n",
       "Fare         512.3292  "
      ]
     },
     "execution_count": 6,
     "metadata": {},
     "output_type": "execute_result"
    }
   ],
   "source": [
    "df.describe(include = [np.number]).T"
   ]
  },
  {
   "cell_type": "code",
   "execution_count": 7,
   "id": "18702707-d2a6-4379-962b-2e0716e8a6fd",
   "metadata": {},
   "outputs": [
    {
     "data": {
      "text/html": [
       "<div>\n",
       "<style scoped>\n",
       "    .dataframe tbody tr th:only-of-type {\n",
       "        vertical-align: middle;\n",
       "    }\n",
       "\n",
       "    .dataframe tbody tr th {\n",
       "        vertical-align: top;\n",
       "    }\n",
       "\n",
       "    .dataframe thead th {\n",
       "        text-align: right;\n",
       "    }\n",
       "</style>\n",
       "<table border=\"1\" class=\"dataframe\">\n",
       "  <thead>\n",
       "    <tr style=\"text-align: right;\">\n",
       "      <th></th>\n",
       "      <th>count</th>\n",
       "      <th>unique</th>\n",
       "      <th>top</th>\n",
       "      <th>freq</th>\n",
       "    </tr>\n",
       "  </thead>\n",
       "  <tbody>\n",
       "    <tr>\n",
       "      <th>Name</th>\n",
       "      <td>891</td>\n",
       "      <td>891</td>\n",
       "      <td>Braund, Mr. Owen Harris</td>\n",
       "      <td>1</td>\n",
       "    </tr>\n",
       "    <tr>\n",
       "      <th>Sex</th>\n",
       "      <td>891</td>\n",
       "      <td>2</td>\n",
       "      <td>male</td>\n",
       "      <td>577</td>\n",
       "    </tr>\n",
       "    <tr>\n",
       "      <th>Ticket</th>\n",
       "      <td>891</td>\n",
       "      <td>681</td>\n",
       "      <td>347082</td>\n",
       "      <td>7</td>\n",
       "    </tr>\n",
       "    <tr>\n",
       "      <th>Cabin</th>\n",
       "      <td>204</td>\n",
       "      <td>147</td>\n",
       "      <td>B96 B98</td>\n",
       "      <td>4</td>\n",
       "    </tr>\n",
       "    <tr>\n",
       "      <th>Embarked</th>\n",
       "      <td>889</td>\n",
       "      <td>3</td>\n",
       "      <td>S</td>\n",
       "      <td>644</td>\n",
       "    </tr>\n",
       "  </tbody>\n",
       "</table>\n",
       "</div>"
      ],
      "text/plain": [
       "         count unique                      top freq\n",
       "Name       891    891  Braund, Mr. Owen Harris    1\n",
       "Sex        891      2                     male  577\n",
       "Ticket     891    681                   347082    7\n",
       "Cabin      204    147                  B96 B98    4\n",
       "Embarked   889      3                        S  644"
      ]
     },
     "execution_count": 7,
     "metadata": {},
     "output_type": "execute_result"
    }
   ],
   "source": [
    "df.describe(exclude = [np.number]).T"
   ]
  },
  {
   "cell_type": "code",
   "execution_count": 8,
   "id": "ed16d298-7465-493a-a1ad-b28b63fe0e97",
   "metadata": {},
   "outputs": [
    {
     "data": {
      "image/png": "[encoded data removed]",
      "text/plain": [
       "<Figure size 1400x850 with 7 Axes>"
      ]
     },
     "metadata": {},
     "output_type": "display_data"
    }
   ],
   "source": [
    "sns.set(rc={'figure.figsize':(14, 8.5)})\n",
    "\n",
    "categoricals = ['Survived', 'Pclass', 'Sex', 'Embarked']\n",
    "numerics = ['SibSp', 'Parch', 'Fare']\n",
    "cols = categoricals + numerics\n",
    "\n",
    "fig, axes = plt.subplots(2, 4)\n",
    "axes = axes.flatten()\n",
    "fig.suptitle('Distribution of Variables in Titanic Dataset')\n",
    "fig.subplots_adjust(hspace=0.35, wspace=0.35)\n",
    "\n",
    "for i in range(len(cols)):\n",
    "    if cols[i] in categoricals:\n",
    "        sns.countplot(ax = axes[i], x = cols[i], data = df, palette = 'Paired')\n",
    "        axes[i].set(title = f\"Distribution of {cols[i]}\", ylabel = 'Count')\n",
    "    else:\n",
    "        sns.histplot(ax = axes[i], x = cols[i], data = df)\n",
    "        axes[i].set(title = f\"Distribution of {cols[i]}\")\n",
    "\n",
    "axes[-1].remove()"
   ]
  },
  {
   "cell_type": "markdown",
   "id": "d1706167-a838-4675-a1d8-4d7bbd1725eb",
   "metadata": {},
   "source": [
    "<h3>Missing Values</h3>"
   ]
  },
  {
   "cell_type": "code",
   "execution_count": 9,
   "id": "2ee10169-8b68-4a16-907b-c5f3784ab6f7",
   "metadata": {},
   "outputs": [
    {
     "name": "stdout",
     "output_type": "stream",
     "text": [
      "Number of missing values in PassengerId: 0\n",
      "Number of missing values in Survived: 0\n",
      "Number of missing values in Pclass: 0\n",
      "Number of missing values in Name: 0\n",
      "Number of missing values in Sex: 0\n",
      "Number of missing values in Age: 177\n",
      "Number of missing values in SibSp: 0\n",
      "Number of missing values in Parch: 0\n",
      "Number of missing values in Ticket: 0\n",
      "Number of missing values in Fare: 0\n",
      "Number of missing values in Cabin: 687\n",
      "Number of missing values in Embarked: 2\n"
     ]
    }
   ],
   "source": [
    "for col in df.columns:\n",
    "    print(f\"Number of missing values in {col}: {pd.isnull(df[col]).sum()}\")"
   ]
  },
  {
   "cell_type": "markdown",
   "id": "31f2c0d9-4874-48bc-86f3-9a9b310652bb",
   "metadata": {},
   "source": [
    "<p><b>Approach</b>:</p>\n",
    "<ul>\n",
    "    <li>Missing values for Age are filled with the mean for the passenger's sex and ticket class</li>\n",
    "    <li>Missing values for Cabin will not be filled. First, I don't anticipate using this column in my classifier. Secondly, value are missing for 687 out of 891 passengers. It would be difficult to meaningfully fill these values</li>\n",
    "    <li>The two missing values in Embarked will be filled with the most common location for passengers in their ticket class and sex</li>\n",
    "<ul>"
   ]
  },
  {
   "cell_type": "code",
   "execution_count": 10,
   "id": "81480d9a-03ea-405e-a465-7a0dbca86eb1",
   "metadata": {},
   "outputs": [],
   "source": [
    "df['Age'] = df.groupby([\"Sex\", \"Pclass\"])['Age'].transform(lambda x: x.fillna(x.mean()))"
   ]
  },
  {
   "cell_type": "code",
   "execution_count": 11,
   "id": "c4d2a56d-79f9-4109-b913-3c8ac041cbbd",
   "metadata": {},
   "outputs": [
    {
     "data": {
      "text/html": [
       "<div>\n",
       "<style scoped>\n",
       "    .dataframe tbody tr th:only-of-type {\n",
       "        vertical-align: middle;\n",
       "    }\n",
       "\n",
       "    .dataframe tbody tr th {\n",
       "        vertical-align: top;\n",
       "    }\n",
       "\n",
       "    .dataframe thead th {\n",
       "        text-align: right;\n",
       "    }\n",
       "</style>\n",
       "<table border=\"1\" class=\"dataframe\">\n",
       "  <thead>\n",
       "    <tr style=\"text-align: right;\">\n",
       "      <th></th>\n",
       "      <th>PassengerId</th>\n",
       "      <th>Survived</th>\n",
       "      <th>Pclass</th>\n",
       "      <th>Name</th>\n",
       "      <th>Sex</th>\n",
       "      <th>Age</th>\n",
       "      <th>SibSp</th>\n",
       "      <th>Parch</th>\n",
       "      <th>Ticket</th>\n",
       "      <th>Fare</th>\n",
       "      <th>Cabin</th>\n",
       "      <th>Embarked</th>\n",
       "    </tr>\n",
       "  </thead>\n",
       "  <tbody>\n",
       "    <tr>\n",
       "      <th>61</th>\n",
       "      <td>62</td>\n",
       "      <td>1</td>\n",
       "      <td>1</td>\n",
       "      <td>Icard, Miss. Amelie</td>\n",
       "      <td>female</td>\n",
       "      <td>38.0</td>\n",
       "      <td>0</td>\n",
       "      <td>0</td>\n",
       "      <td>113572</td>\n",
       "      <td>80.0</td>\n",
       "      <td>B28</td>\n",
       "      <td>NaN</td>\n",
       "    </tr>\n",
       "    <tr>\n",
       "      <th>829</th>\n",
       "      <td>830</td>\n",
       "      <td>1</td>\n",
       "      <td>1</td>\n",
       "      <td>Stone, Mrs. George Nelson (Martha Evelyn)</td>\n",
       "      <td>female</td>\n",
       "      <td>62.0</td>\n",
       "      <td>0</td>\n",
       "      <td>0</td>\n",
       "      <td>113572</td>\n",
       "      <td>80.0</td>\n",
       "      <td>B28</td>\n",
       "      <td>NaN</td>\n",
       "    </tr>\n",
       "  </tbody>\n",
       "</table>\n",
       "</div>"
      ],
      "text/plain": [
       "     PassengerId  Survived  Pclass                                       Name  \\\n",
       "61            62         1       1                        Icard, Miss. Amelie   \n",
       "829          830         1       1  Stone, Mrs. George Nelson (Martha Evelyn)   \n",
       "\n",
       "        Sex   Age  SibSp  Parch  Ticket  Fare Cabin Embarked  \n",
       "61   female  38.0      0      0  113572  80.0   B28      NaN  \n",
       "829  female  62.0      0      0  113572  80.0   B28      NaN  "
      ]
     },
     "execution_count": 11,
     "metadata": {},
     "output_type": "execute_result"
    }
   ],
   "source": [
    "df[pd.isnull(df.Embarked)]"
   ]
  },
  {
   "cell_type": "markdown",
   "id": "589cc995-4246-4245-a719-97373eee64c2",
   "metadata": {},
   "source": [
    "The most common embarking point for women in first class is South Hamptom"
   ]
  },
  {
   "cell_type": "code",
   "execution_count": 12,
   "id": "f3ebdb49-2de9-4785-843e-49da45bd0728",
   "metadata": {},
   "outputs": [
    {
     "data": {
      "text/html": [
       "<div>\n",
       "<style scoped>\n",
       "    .dataframe tbody tr th:only-of-type {\n",
       "        vertical-align: middle;\n",
       "    }\n",
       "\n",
       "    .dataframe tbody tr th {\n",
       "        vertical-align: top;\n",
       "    }\n",
       "\n",
       "    .dataframe thead th {\n",
       "        text-align: right;\n",
       "    }\n",
       "</style>\n",
       "<table border=\"1\" class=\"dataframe\">\n",
       "  <thead>\n",
       "    <tr style=\"text-align: right;\">\n",
       "      <th></th>\n",
       "      <th></th>\n",
       "      <th></th>\n",
       "      <th>Embarked</th>\n",
       "    </tr>\n",
       "    <tr>\n",
       "      <th>Sex</th>\n",
       "      <th>Pclass</th>\n",
       "      <th>Embarked</th>\n",
       "      <th></th>\n",
       "    </tr>\n",
       "  </thead>\n",
       "  <tbody>\n",
       "    <tr>\n",
       "      <th rowspan=\"9\" valign=\"top\">female</th>\n",
       "      <th rowspan=\"3\" valign=\"top\">1</th>\n",
       "      <th>S</th>\n",
       "      <td>48</td>\n",
       "    </tr>\n",
       "    <tr>\n",
       "      <th>C</th>\n",
       "      <td>43</td>\n",
       "    </tr>\n",
       "    <tr>\n",
       "      <th>Q</th>\n",
       "      <td>1</td>\n",
       "    </tr>\n",
       "    <tr>\n",
       "      <th rowspan=\"3\" valign=\"top\">2</th>\n",
       "      <th>S</th>\n",
       "      <td>67</td>\n",
       "    </tr>\n",
       "    <tr>\n",
       "      <th>C</th>\n",
       "      <td>7</td>\n",
       "    </tr>\n",
       "    <tr>\n",
       "      <th>Q</th>\n",
       "      <td>2</td>\n",
       "    </tr>\n",
       "    <tr>\n",
       "      <th rowspan=\"3\" valign=\"top\">3</th>\n",
       "      <th>S</th>\n",
       "      <td>88</td>\n",
       "    </tr>\n",
       "    <tr>\n",
       "      <th>Q</th>\n",
       "      <td>33</td>\n",
       "    </tr>\n",
       "    <tr>\n",
       "      <th>C</th>\n",
       "      <td>23</td>\n",
       "    </tr>\n",
       "    <tr>\n",
       "      <th rowspan=\"9\" valign=\"top\">male</th>\n",
       "      <th rowspan=\"3\" valign=\"top\">1</th>\n",
       "      <th>S</th>\n",
       "      <td>79</td>\n",
       "    </tr>\n",
       "    <tr>\n",
       "      <th>C</th>\n",
       "      <td>42</td>\n",
       "    </tr>\n",
       "    <tr>\n",
       "      <th>Q</th>\n",
       "      <td>1</td>\n",
       "    </tr>\n",
       "    <tr>\n",
       "      <th rowspan=\"3\" valign=\"top\">2</th>\n",
       "      <th>S</th>\n",
       "      <td>97</td>\n",
       "    </tr>\n",
       "    <tr>\n",
       "      <th>C</th>\n",
       "      <td>10</td>\n",
       "    </tr>\n",
       "    <tr>\n",
       "      <th>Q</th>\n",
       "      <td>1</td>\n",
       "    </tr>\n",
       "    <tr>\n",
       "      <th rowspan=\"3\" valign=\"top\">3</th>\n",
       "      <th>S</th>\n",
       "      <td>265</td>\n",
       "    </tr>\n",
       "    <tr>\n",
       "      <th>C</th>\n",
       "      <td>43</td>\n",
       "    </tr>\n",
       "    <tr>\n",
       "      <th>Q</th>\n",
       "      <td>39</td>\n",
       "    </tr>\n",
       "  </tbody>\n",
       "</table>\n",
       "</div>"
      ],
      "text/plain": [
       "                        Embarked\n",
       "Sex    Pclass Embarked          \n",
       "female 1      S               48\n",
       "              C               43\n",
       "              Q                1\n",
       "       2      S               67\n",
       "              C                7\n",
       "              Q                2\n",
       "       3      S               88\n",
       "              Q               33\n",
       "              C               23\n",
       "male   1      S               79\n",
       "              C               42\n",
       "              Q                1\n",
       "       2      S               97\n",
       "              C               10\n",
       "              Q                1\n",
       "       3      S              265\n",
       "              C               43\n",
       "              Q               39"
      ]
     },
     "execution_count": 12,
     "metadata": {},
     "output_type": "execute_result"
    }
   ],
   "source": [
    "pd.DataFrame(df.groupby([\"Sex\", \"Pclass\"])['Embarked'].value_counts())"
   ]
  },
  {
   "cell_type": "code",
   "execution_count": 13,
   "id": "d1322e71-820e-4bdc-b764-65ffd7ca75fb",
   "metadata": {},
   "outputs": [],
   "source": [
    "df['Embarked'] = df['Embarked'].fillna(value = 'S')"
   ]
  },
  {
   "cell_type": "code",
   "execution_count": 83,
   "id": "d291d3d4-31c8-465b-85ee-9a0f93f96904",
   "metadata": {},
   "outputs": [],
   "source": [
    "#putting all of this in a nice function we can use when it's time to make our final prediction!\n",
    "\n",
    "def fill_missing_vals(df):\n",
    "    df['Age'] = df.groupby([\"Sex\", \"Pclass\"])['Age'].transform(lambda x: x.fillna(x.mean()))\n",
    "    df['Embarked'] = df['Embarked'].fillna(value = 'S')\n",
    "    # get other columns with missing values (for flexibility)\n",
    "    # we explicitly drop cabin later so no need for it now \n",
    "    other_missing = [col for col in df.columns if pd.isnull(df[col]).sum() > 0 and col != 'Cabin']\n",
    "    for missing in other_missing:\n",
    "        df[missing] = df.groupby([\"Sex\", \"Pclass\"])[missing].transform(lambda x: x.fillna(x.mean()))\n",
    "    return df"
   ]
  },
  {
   "cell_type": "markdown",
   "id": "01dab438-9012-4b9e-9162-588a9aabfc92",
   "metadata": {},
   "source": [
    "<h2>Feature Engineering</h2>"
   ]
  },
  {
   "cell_type": "code",
   "execution_count": 15,
   "id": "e8754213-db76-4275-ab7a-efbc432680ef",
   "metadata": {},
   "outputs": [],
   "source": [
    "df['Family Size'] = df['SibSp'] + df['Parch'] "
   ]
  },
  {
   "cell_type": "code",
   "execution_count": 16,
   "id": "dae26873-a2eb-42b4-9c9c-c270e01a1264",
   "metadata": {},
   "outputs": [
    {
     "data": {
      "text/plain": [
       "count    891.000000\n",
       "mean       0.904602\n",
       "std        1.613459\n",
       "min        0.000000\n",
       "25%        0.000000\n",
       "50%        0.000000\n",
       "75%        1.000000\n",
       "max       10.000000\n",
       "Name: Family Size, dtype: float64"
      ]
     },
     "execution_count": 16,
     "metadata": {},
     "output_type": "execute_result"
    }
   ],
   "source": [
    "df['Family Size'].describe()"
   ]
  },
  {
   "cell_type": "code",
   "execution_count": 17,
   "id": "a383cbb6-f9b6-4e0b-b570-e7dcf6f7bb5e",
   "metadata": {},
   "outputs": [],
   "source": [
    "df['Title'] = df.Name.str.extract('([A-Za-z]+)\\.', expand=True)"
   ]
  },
  {
   "cell_type": "code",
   "execution_count": 18,
   "id": "d7b4e9d4-127e-4dd7-a9bc-1d0633be5566",
   "metadata": {},
   "outputs": [
    {
     "data": {
      "text/plain": [
       "Mr          517\n",
       "Miss        182\n",
       "Mrs         125\n",
       "Master       40\n",
       "Dr            7\n",
       "Rev           6\n",
       "Mlle          2\n",
       "Major         2\n",
       "Col           2\n",
       "Countess      1\n",
       "Capt          1\n",
       "Ms            1\n",
       "Sir           1\n",
       "Lady          1\n",
       "Mme           1\n",
       "Don           1\n",
       "Jonkheer      1\n",
       "Name: Title, dtype: int64"
      ]
     },
     "execution_count": 18,
     "metadata": {},
     "output_type": "execute_result"
    }
   ],
   "source": [
    "df.Title.value_counts()"
   ]
  },
  {
   "cell_type": "code",
   "execution_count": 19,
   "id": "3c986641-2fbc-4c99-95bd-eb6f288f90cb",
   "metadata": {},
   "outputs": [],
   "source": [
    "uncommon_titles = {'Dr': 'Mr', 'Rev': 'Mr', 'Mlle': 'Miss', 'Major': 'Mr', 'Col': 'Mr', 'Countess': 'Mrs', \n",
    "                   'Capt': 'Mr', 'Ms': 'Miss', 'Sir': 'Mr', 'Lady': 'Miss', 'Don': 'Mr', 'Jonkheer': 'Mr', \n",
    "                   'Mme': 'Mrs'}\n",
    "\n",
    "df = df.replace({'Title': uncommon_titles})"
   ]
  },
  {
   "cell_type": "code",
   "execution_count": 20,
   "id": "ce6a8dfd-5d7d-4ea3-b966-56fa4e16c877",
   "metadata": {},
   "outputs": [
    {
     "data": {
      "text/plain": [
       "Mr        538\n",
       "Miss      186\n",
       "Mrs       127\n",
       "Master     40\n",
       "Name: Title, dtype: int64"
      ]
     },
     "execution_count": 20,
     "metadata": {},
     "output_type": "execute_result"
    }
   ],
   "source": [
    "df.Title.value_counts()"
   ]
  },
  {
   "cell_type": "code",
   "execution_count": 21,
   "id": "c962d96e-5214-481f-951b-cc293346848b",
   "metadata": {},
   "outputs": [],
   "source": [
    "#putting all of this in a nice function we can use when it's time to make our final prediction!\n",
    "\n",
    "def add_features(df):\n",
    "    df['Family Size'] = df['SibSp'] + df['Parch'] \n",
    "    df['Title'] = df.Name.str.extract('([A-Za-z]+)\\.', expand=True)\n",
    "    uncommon_titles = {'Dr': 'Mr', 'Rev': 'Mr', 'Mlle': 'Miss', 'Major': 'Mr', 'Col': 'Mr', 'Countess': 'Mrs', \n",
    "                   'Capt': 'Mr', 'Ms': 'Miss', 'Sir': 'Mr', 'Lady': 'Miss', 'Don': 'Mr', 'Jonkheer': 'Mr', \n",
    "                   'Mme': 'Mrs'}\n",
    "\n",
    "    df = df.replace({'Title': uncommon_titles})\n",
    "    return df "
   ]
  },
  {
   "cell_type": "markdown",
   "id": "a06ae234-abed-41a4-b343-aa9c7847126a",
   "metadata": {},
   "source": [
    "<h2>Preprocess Data</h2>"
   ]
  },
  {
   "cell_type": "code",
   "execution_count": 35,
   "id": "9bf49a44-9794-43fd-aeee-662220a934a6",
   "metadata": {},
   "outputs": [],
   "source": [
    "X = df.drop(columns = ['Survived', 'PassengerId', 'Name', 'Cabin'])\n",
    "y = df['Survived']\n",
    "\n",
    "X_train, X_test, y_train, y_test = train_test_split(X, y, random_state = 42)"
   ]
  },
  {
   "cell_type": "code",
   "execution_count": 23,
   "id": "4df59207-fb09-4b56-8891-de82a1453cd2",
   "metadata": {},
   "outputs": [
    {
     "data": {
      "text/plain": [
       "((668, 10), (223, 10))"
      ]
     },
     "execution_count": 23,
     "metadata": {},
     "output_type": "execute_result"
    }
   ],
   "source": [
    "X_train.shape, X_test.shape"
   ]
  },
  {
   "cell_type": "code",
   "execution_count": 24,
   "id": "5405f22b-d1b7-4ff8-be92-7d160c86a276",
   "metadata": {},
   "outputs": [],
   "source": [
    "categoricals += ['Title']\n",
    "numerics += ['Family Size']\n",
    "\n",
    "pipe = ColumnTransformer([\n",
    "    ('encode', OneHotEncoder(handle_unknown = 'ignore'), categoricals[1:]), \n",
    "    ('scale', StandardScaler(with_mean = False), numerics)\n",
    "])\n",
    "\n",
    "X_train_transformed = pipe.fit_transform(X_train)\n",
    "X_test_transformed = pipe.transform(X_test)"
   ]
  },
  {
   "cell_type": "markdown",
   "id": "3a562802-8ec8-4c50-8cf7-afbeb4fe70b1",
   "metadata": {},
   "source": [
    "<h2>Logistic Regression</h2>"
   ]
  },
  {
   "cell_type": "code",
   "execution_count": 25,
   "id": "9f0abdb1-57ff-46b0-b7ca-4e3713d90d6e",
   "metadata": {},
   "outputs": [],
   "source": [
    "reg = LogisticRegression(random_state = 42).fit(X_train_transformed, y_train)"
   ]
  },
  {
   "cell_type": "code",
   "execution_count": 26,
   "id": "24678833-eb42-4fc4-aa15-a731e585e04b",
   "metadata": {},
   "outputs": [],
   "source": [
    "pred_test = reg.predict(X_test_transformed)"
   ]
  },
  {
   "cell_type": "code",
   "execution_count": 27,
   "id": "23cc0ba4-807f-4491-bae7-678e8275a1d4",
   "metadata": {},
   "outputs": [
    {
     "data": {
      "text/plain": [
       "0.8116591928251121"
      ]
     },
     "execution_count": 27,
     "metadata": {},
     "output_type": "execute_result"
    }
   ],
   "source": [
    "accuracy_score(y_test, pred_test)"
   ]
  },
  {
   "cell_type": "code",
   "execution_count": 28,
   "id": "b5e851ac-2eeb-46da-9c3f-bdfcf49aa459",
   "metadata": {},
   "outputs": [
    {
     "name": "stderr",
     "output_type": "stream",
     "text": [
      "/var/folders/49/3f_15lzd6b57lnzlk4m_9k440000gn/T/ipykernel_68985/3572301529.py:4: DeprecationWarning: `np.float` is a deprecated alias for the builtin `float`. To silence this warning, use `float` by itself. Doing this will not modify any behavior and is safe. If you specifically wanted the numpy scalar type, use `np.float64` here.\n",
      "Deprecated in NumPy 1.20; for more details and guidance: https://numpy.org/devdocs/release/1.20.0-notes.html#deprecations\n",
      "  normalized_conf_matrix = conf_matrix / conf_matrix.astype(np.float).sum(axis = 1)[:, np.newaxis]\n"
     ]
    },
    {
     "data": {
      "image/png": "[encoded data removed]",
      "text/plain": [
       "<Figure size 800x500 with 2 Axes>"
      ]
     },
     "metadata": {},
     "output_type": "display_data"
    }
   ],
   "source": [
    "sns.set(rc={'figure.figsize':(8, 5)})\n",
    "\n",
    "conf_matrix = confusion_matrix(y_test, pred_test)\n",
    "normalized_conf_matrix = conf_matrix / conf_matrix.astype(np.float).sum(axis = 1)[:, np.newaxis]\n",
    "\n",
    "f = sns.heatmap(normalized_conf_matrix, annot = True, fmt='.2f', xticklabels = reg.classes_, yticklabels = reg.classes_)\n",
    "_ = f.set(title = 'Normalized Confusion Matrix of Titanic Survial', ylabel = 'Predicted Outcome', xlabel = 'True Outcome')"
   ]
  },
  {
   "cell_type": "markdown",
   "id": "aa51f385-76f9-4a32-987f-a0ed17d7ae4c",
   "metadata": {},
   "source": [
    "<h2>Random Forest Classifier</h2>"
   ]
  },
  {
   "cell_type": "code",
   "execution_count": 29,
   "id": "690f3283-27bc-45fb-abee-9a5a6816c073",
   "metadata": {},
   "outputs": [
    {
     "data": {
      "text/plain": [
       "GridSearchCV(cv=2,\n",
       "             estimator=RandomForestClassifier(criterion='entropy',\n",
       "                                              random_state=42),\n",
       "             n_jobs=-1,\n",
       "             param_grid={'n_estimators': array([ 1,  2,  3,  4,  5,  6,  7,  8,  9, 10, 11, 12, 13, 14, 15, 16, 17,\n",
       "       18, 19])})"
      ]
     },
     "execution_count": 29,
     "metadata": {},
     "output_type": "execute_result"
    }
   ],
   "source": [
    "n_estimators = {'n_estimators': np.arange(1, 20)}\n",
    "\n",
    "forest = RandomForestClassifier(criterion = 'entropy', random_state = 42)\n",
    "n_estimators_search = GridSearchCV(forest, n_estimators, cv = 2, n_jobs = -1)\n",
    "n_estimators_search.fit(X_train_transformed, y_train)"
   ]
  },
  {
   "cell_type": "code",
   "execution_count": 30,
   "id": "0c66c04a-5a18-4061-b1f2-a624f2cc98bb",
   "metadata": {},
   "outputs": [
    {
     "data": {
      "text/plain": [
       "({'n_estimators': 6}, 0.8173652694610778)"
      ]
     },
     "execution_count": 30,
     "metadata": {},
     "output_type": "execute_result"
    }
   ],
   "source": [
    "n_estimators_search.best_params_, n_estimators_search.best_score_"
   ]
  },
  {
   "cell_type": "code",
   "execution_count": 31,
   "id": "294e0a8a-01e3-4e8c-a38b-2969cf1e19bd",
   "metadata": {},
   "outputs": [],
   "source": [
    "# commenting out because the output is long and messy, but very important to examinet this!\n",
    "# n_estimators_search.cv_results_"
   ]
  },
  {
   "cell_type": "code",
   "execution_count": 32,
   "id": "85fdb8ae-9f0b-43d7-9695-326efc4137dc",
   "metadata": {},
   "outputs": [
    {
     "data": {
      "text/plain": [
       "0.7982062780269058"
      ]
     },
     "execution_count": 32,
     "metadata": {},
     "output_type": "execute_result"
    }
   ],
   "source": [
    "n_estimators_search.score(X_test_transformed, y_test)"
   ]
  },
  {
   "cell_type": "code",
   "execution_count": 33,
   "id": "72524511-0e86-4795-8c43-44ca262e63d0",
   "metadata": {},
   "outputs": [
    {
     "name": "stderr",
     "output_type": "stream",
     "text": [
      "/var/folders/49/3f_15lzd6b57lnzlk4m_9k440000gn/T/ipykernel_68985/2646810015.py:2: DeprecationWarning: `np.float` is a deprecated alias for the builtin `float`. To silence this warning, use `float` by itself. Doing this will not modify any behavior and is safe. If you specifically wanted the numpy scalar type, use `np.float64` here.\n",
      "Deprecated in NumPy 1.20; for more details and guidance: https://numpy.org/devdocs/release/1.20.0-notes.html#deprecations\n",
      "  normalized_conf_matrix = conf_matrix / conf_matrix.astype(np.float).sum(axis = 1)[:, np.newaxis]\n"
     ]
    },
    {
     "data": {
      "image/png": "[encoded data removed]",
      "text/plain": [
       "<Figure size 800x500 with 2 Axes>"
      ]
     },
     "metadata": {},
     "output_type": "display_data"
    }
   ],
   "source": [
    "conf_matrix = confusion_matrix(y_test, n_estimators_search.predict(X_test_transformed))\n",
    "normalized_conf_matrix = conf_matrix / conf_matrix.astype(np.float).sum(axis = 1)[:, np.newaxis]\n",
    "\n",
    "f = sns.heatmap(normalized_conf_matrix, annot = True, fmt='.2f', xticklabels = reg.classes_, yticklabels = reg.classes_)\n",
    "_ = f.set(title = 'Normalized Confusion Matrix of Titanic Survial', ylabel = 'Predicted Outcome', xlabel = 'True Outcome')"
   ]
  },
  {
   "cell_type": "markdown",
   "id": "1a40c766-5c8b-4194-8be4-45bc9ce9f11f",
   "metadata": {},
   "source": [
    "It seems like adding the title feature was a good idea! Family size, on the other hand, is not very informative"
   ]
  },
  {
   "cell_type": "code",
   "execution_count": 37,
   "id": "e8588564-cbc3-42d2-94eb-a99a93b755e5",
   "metadata": {},
   "outputs": [
    {
     "data": {
      "image/png": "[encoded data removed]",
      "text/plain": [
       "<Figure size 800x500 with 1 Axes>"
      ]
     },
     "metadata": {},
     "output_type": "display_data"
    }
   ],
   "source": [
    "feat_importance = pd.Series(n_estimators_search.best_estimator_.feature_importances_)\n",
    "feat_importance_df = pd.DataFrame(pd.concat([pd.Series(X_test.columns), feat_importance], axis = 1))\n",
    "feat_importance_df.columns = ['feature', 'importance']\n",
    "\n",
    "\n",
    "f = sns.barplot(x = 'feature', y = 'importance', \n",
    "                data = feat_importance_df.sort_values(by = 'importance', ascending = False))\n",
    "_ = f.set(title = 'Feature Importance in Random Forest Classifier', xlabel = 'Feature', ylabel = 'Importance')"
   ]
  },
  {
   "cell_type": "markdown",
   "id": "2fe5d2c7-7187-4503-8961-ecc737dc41ee",
   "metadata": {},
   "source": [
    "<h2>K-Near Neighbors Classifier</h2>"
   ]
  },
  {
   "cell_type": "code",
   "execution_count": 38,
   "id": "6d79f0fc-621d-4e2b-9e46-a91b5f11dfe3",
   "metadata": {},
   "outputs": [
    {
     "data": {
      "text/plain": [
       "GridSearchCV(cv=5, estimator=KNeighborsClassifier(), n_jobs=-1,\n",
       "             param_grid={'n_neighbors': array([ 1,  2,  3,  4,  5,  6,  7,  8,  9, 10, 11, 12, 13, 14, 15, 16, 17,\n",
       "       18, 19])})"
      ]
     },
     "execution_count": 38,
     "metadata": {},
     "output_type": "execute_result"
    }
   ],
   "source": [
    "n_neighbors = {'n_neighbors': np.arange(1, 20)}\n",
    "\n",
    "neighbors = KNeighborsClassifier()\n",
    "n_neighbors_search = GridSearchCV(neighbors, n_neighbors, cv = 5, n_jobs = -1)\n",
    "n_neighbors_search.fit(X_train_transformed, y_train)"
   ]
  },
  {
   "cell_type": "code",
   "execution_count": 39,
   "id": "559db561-e280-47a5-9461-97347b5f08d4",
   "metadata": {},
   "outputs": [
    {
     "data": {
      "text/plain": [
       "({'n_neighbors': 12}, 0.8233307148468185)"
      ]
     },
     "execution_count": 39,
     "metadata": {},
     "output_type": "execute_result"
    }
   ],
   "source": [
    "n_neighbors_search.best_params_, n_neighbors_search.best_score_"
   ]
  },
  {
   "cell_type": "code",
   "execution_count": 40,
   "id": "5f44d350-a857-47de-999d-f1e6deefb753",
   "metadata": {},
   "outputs": [],
   "source": [
    "# commenting out because the output is long and messy, but very important to examine this!\n",
    "#  n_neighbors_search.cv_results_"
   ]
  },
  {
   "cell_type": "code",
   "execution_count": 41,
   "id": "0d979fd3-8aa4-44af-a6ea-b693346c2224",
   "metadata": {},
   "outputs": [
    {
     "data": {
      "text/plain": [
       "0.8026905829596412"
      ]
     },
     "execution_count": 41,
     "metadata": {},
     "output_type": "execute_result"
    }
   ],
   "source": [
    "n_neighbors_search.score(X_test_transformed, y_test)"
   ]
  },
  {
   "cell_type": "code",
   "execution_count": 42,
   "id": "22af3dab-984f-4faa-bb34-1139c10165da",
   "metadata": {},
   "outputs": [],
   "source": [
    "knn_results = pd.concat([pd.Series(n_neighbors_search.predict(X_test_transformed)), y_test.reset_index(drop = True)], axis = 1)\n",
    "knn_results.columns = ['knn_predicted', 'true']"
   ]
  },
  {
   "cell_type": "code",
   "execution_count": 43,
   "id": "70e69570-3e36-4473-955f-96278bf5f509",
   "metadata": {},
   "outputs": [
    {
     "name": "stderr",
     "output_type": "stream",
     "text": [
      "/var/folders/49/3f_15lzd6b57lnzlk4m_9k440000gn/T/ipykernel_68985/2940363200.py:2: DeprecationWarning: `np.float` is a deprecated alias for the builtin `float`. To silence this warning, use `float` by itself. Doing this will not modify any behavior and is safe. If you specifically wanted the numpy scalar type, use `np.float64` here.\n",
      "Deprecated in NumPy 1.20; for more details and guidance: https://numpy.org/devdocs/release/1.20.0-notes.html#deprecations\n",
      "  normalized_conf_matrix = conf_matrix / conf_matrix.astype(np.float).sum(axis = 1)[:, np.newaxis]\n"
     ]
    },
    {
     "data": {
      "image/png": "[encoded data removed]",
      "text/plain": [
       "<Figure size 800x500 with 2 Axes>"
      ]
     },
     "metadata": {},
     "output_type": "display_data"
    }
   ],
   "source": [
    "conf_matrix = confusion_matrix(y_test, n_neighbors_search.predict(X_test_transformed))\n",
    "normalized_conf_matrix = conf_matrix / conf_matrix.astype(np.float).sum(axis = 1)[:, np.newaxis]\n",
    "\n",
    "f = sns.heatmap(normalized_conf_matrix, annot = True, fmt='.2f', xticklabels = reg.classes_, yticklabels = reg.classes_)\n",
    "_ = f.set(title = 'Normalized Confusion Matrix of Titanic Survial', ylabel = 'Predicted Outcome', xlabel = 'True Outcome')"
   ]
  },
  {
   "cell_type": "markdown",
   "id": "b28f6ab5-50f0-4fad-b911-3677ab4bb080",
   "metadata": {},
   "source": [
    "<h2>Voting Classifier with Logistic Regression, Random Forest & K-Nearest Neighbors Classifiers</h2>"
   ]
  },
  {
   "cell_type": "code",
   "execution_count": 44,
   "id": "c4c5a2d3-6c8b-4997-84ab-e489b3af35f9",
   "metadata": {},
   "outputs": [
    {
     "data": {
      "text/plain": [
       "VotingClassifier(estimators=[('random forest',\n",
       "                              GridSearchCV(cv=2,\n",
       "                                           estimator=RandomForestClassifier(criterion='entropy',\n",
       "                                                                            random_state=42),\n",
       "                                           n_jobs=-1,\n",
       "                                           param_grid={'n_estimators': array([ 1,  2,  3,  4,  5,  6,  7,  8,  9, 10, 11, 12, 13, 14, 15, 16, 17,\n",
       "       18, 19])})),\n",
       "                             ('k-nearest neighbors',\n",
       "                              GridSearchCV(cv=5,\n",
       "                                           estimator=KNeighborsClassifier(),\n",
       "                                           n_jobs=-1,\n",
       "                                           param_grid={'n_neighbors': array([ 1,  2,  3,  4,  5,  6,  7,  8,  9, 10, 11, 12, 13, 14, 15, 16, 17,\n",
       "       18, 19])})),\n",
       "                             ('logistic regression',\n",
       "                              LogisticRegression(random_state=42))])"
      ]
     },
     "execution_count": 44,
     "metadata": {},
     "output_type": "execute_result"
    }
   ],
   "source": [
    "classifiers = [('random forest', n_estimators_search), ('k-nearest neighbors', n_neighbors_search), \n",
    "              ('logistic regression', reg)]\n",
    "\n",
    "voting = VotingClassifier(classifiers)\n",
    "voting.fit(X_train_transformed, y_train)"
   ]
  },
  {
   "cell_type": "code",
   "execution_count": 45,
   "id": "68449458-fba3-4a8a-8c35-4a84e473339f",
   "metadata": {},
   "outputs": [
    {
     "data": {
      "text/plain": [
       "0.8026905829596412"
      ]
     },
     "execution_count": 45,
     "metadata": {},
     "output_type": "execute_result"
    }
   ],
   "source": [
    "voting.score(X_test_transformed, y_test)"
   ]
  },
  {
   "cell_type": "markdown",
   "id": "8fa3ad57-0bce-4aaa-93eb-860c194b7005",
   "metadata": {},
   "source": [
    "The voting classifier aggress with the k-nearest-neighbors classifier in most instances, but they don't always agree"
   ]
  },
  {
   "cell_type": "code",
   "execution_count": 46,
   "id": "87b3d047-7233-4068-b27a-290794ace3f8",
   "metadata": {},
   "outputs": [
    {
     "data": {
      "text/plain": [
       "True"
      ]
     },
     "execution_count": 46,
     "metadata": {},
     "output_type": "execute_result"
    }
   ],
   "source": [
    "n_neighbors_search.score(X_test_transformed, y_test) == voting.score(X_test_transformed, y_test)"
   ]
  },
  {
   "cell_type": "code",
   "execution_count": 47,
   "id": "e01836f8-3ee1-49ab-9152-e6e1872349f0",
   "metadata": {},
   "outputs": [],
   "source": [
    "voting_results = pd.concat([pd.Series(voting.predict(X_test_transformed)), y_test.reset_index(drop = True)], axis = 1)\n",
    "voting_results.columns = ['voting_predicted', 'true']"
   ]
  },
  {
   "cell_type": "code",
   "execution_count": 48,
   "id": "75a8db47-2914-4d03-b14e-b85aaa1e0283",
   "metadata": {},
   "outputs": [
    {
     "data": {
      "text/plain": [
       "(219, 223)"
      ]
     },
     "execution_count": 48,
     "metadata": {},
     "output_type": "execute_result"
    }
   ],
   "source": [
    "comp = pd.concat([knn_results, voting_results.voting_predicted], axis = 1)\n",
    "comp[comp.voting_predicted == comp.knn_predicted].shape[0], comp.shape[0]"
   ]
  },
  {
   "cell_type": "code",
   "execution_count": 49,
   "id": "47bbc596-4d2a-4016-a0c4-93a41996d8be",
   "metadata": {},
   "outputs": [
    {
     "data": {
      "text/html": [
       "<div>\n",
       "<style scoped>\n",
       "    .dataframe tbody tr th:only-of-type {\n",
       "        vertical-align: middle;\n",
       "    }\n",
       "\n",
       "    .dataframe tbody tr th {\n",
       "        vertical-align: top;\n",
       "    }\n",
       "\n",
       "    .dataframe thead th {\n",
       "        text-align: right;\n",
       "    }\n",
       "</style>\n",
       "<table border=\"1\" class=\"dataframe\">\n",
       "  <thead>\n",
       "    <tr style=\"text-align: right;\">\n",
       "      <th></th>\n",
       "      <th>knn_predicted</th>\n",
       "      <th>true</th>\n",
       "      <th>voting_predicted</th>\n",
       "    </tr>\n",
       "  </thead>\n",
       "  <tbody>\n",
       "    <tr>\n",
       "      <th>29</th>\n",
       "      <td>0</td>\n",
       "      <td>0</td>\n",
       "      <td>1</td>\n",
       "    </tr>\n",
       "    <tr>\n",
       "      <th>33</th>\n",
       "      <td>0</td>\n",
       "      <td>0</td>\n",
       "      <td>1</td>\n",
       "    </tr>\n",
       "    <tr>\n",
       "      <th>50</th>\n",
       "      <td>0</td>\n",
       "      <td>1</td>\n",
       "      <td>1</td>\n",
       "    </tr>\n",
       "    <tr>\n",
       "      <th>119</th>\n",
       "      <td>1</td>\n",
       "      <td>0</td>\n",
       "      <td>0</td>\n",
       "    </tr>\n",
       "  </tbody>\n",
       "</table>\n",
       "</div>"
      ],
      "text/plain": [
       "     knn_predicted  true  voting_predicted\n",
       "29               0     0                 1\n",
       "33               0     0                 1\n",
       "50               0     1                 1\n",
       "119              1     0                 0"
      ]
     },
     "execution_count": 49,
     "metadata": {},
     "output_type": "execute_result"
    }
   ],
   "source": [
    "comp[comp.voting_predicted != comp.knn_predicted]"
   ]
  },
  {
   "cell_type": "markdown",
   "id": "44ea77e0-f76e-4234-a91d-bc6b0b93b05e",
   "metadata": {},
   "source": [
    "Most errors occur when we predict someone will survive, but they died on the Titanic. Who are these individuals?"
   ]
  },
  {
   "cell_type": "code",
   "execution_count": 50,
   "id": "c97a2cf7-0f32-4a67-b7e4-16ad9d9a38ab",
   "metadata": {},
   "outputs": [
    {
     "name": "stderr",
     "output_type": "stream",
     "text": [
      "/var/folders/49/3f_15lzd6b57lnzlk4m_9k440000gn/T/ipykernel_68985/3758494575.py:2: DeprecationWarning: `np.float` is a deprecated alias for the builtin `float`. To silence this warning, use `float` by itself. Doing this will not modify any behavior and is safe. If you specifically wanted the numpy scalar type, use `np.float64` here.\n",
      "Deprecated in NumPy 1.20; for more details and guidance: https://numpy.org/devdocs/release/1.20.0-notes.html#deprecations\n",
      "  normalized_conf_matrix = conf_matrix / conf_matrix.astype(np.float).sum(axis = 1)[:, np.newaxis]\n"
     ]
    },
    {
     "data": {
      "image/png": "[encoded data removed]",
      "text/plain": [
       "<Figure size 800x500 with 2 Axes>"
      ]
     },
     "metadata": {},
     "output_type": "display_data"
    }
   ],
   "source": [
    "conf_matrix = confusion_matrix(y_test, voting.predict(X_test_transformed))\n",
    "normalized_conf_matrix = conf_matrix / conf_matrix.astype(np.float).sum(axis = 1)[:, np.newaxis]\n",
    "\n",
    "f = sns.heatmap(normalized_conf_matrix, annot = True, fmt='.2f', xticklabels = reg.classes_, yticklabels = reg.classes_)\n",
    "_ = f.set(title = 'Normalized Confusion Matrix of Titanic Survial', ylabel = 'Predicted Outcome', xlabel = 'True Outcome')"
   ]
  },
  {
   "cell_type": "markdown",
   "id": "2b6c3dfb-40cc-4b51-ba5f-3e3c6d67c3d6",
   "metadata": {},
   "source": [
    "<h3>Examining Commonly Misclassified Rows</h3>\n",
    "Individuals who we predicted would survive, but died"
   ]
  },
  {
   "cell_type": "code",
   "execution_count": 51,
   "id": "7af95c10-71e5-4050-b276-eca05414e117",
   "metadata": {},
   "outputs": [],
   "source": [
    "missclassified = pd.concat([X_test.reset_index(drop = True), y_test.reset_index(drop = True), \n",
    "                            pd.Series(voting.predict(X_test_transformed))], axis = 1)\n",
    "\n",
    "missclassified = missclassified.rename(columns = {0 : 'predicted'})\n",
    "missclassified = missclassified[(missclassified.Survived == 0) & (missclassified.predicted == 1)]"
   ]
  },
  {
   "cell_type": "code",
   "execution_count": 52,
   "id": "03160abd-6812-4ad2-8425-48100513153e",
   "metadata": {},
   "outputs": [
    {
     "data": {
      "text/html": [
       "<div>\n",
       "<style scoped>\n",
       "    .dataframe tbody tr th:only-of-type {\n",
       "        vertical-align: middle;\n",
       "    }\n",
       "\n",
       "    .dataframe tbody tr th {\n",
       "        vertical-align: top;\n",
       "    }\n",
       "\n",
       "    .dataframe thead th {\n",
       "        text-align: right;\n",
       "    }\n",
       "</style>\n",
       "<table border=\"1\" class=\"dataframe\">\n",
       "  <thead>\n",
       "    <tr style=\"text-align: right;\">\n",
       "      <th></th>\n",
       "      <th>Pclass</th>\n",
       "      <th>Sex</th>\n",
       "      <th>Age</th>\n",
       "      <th>SibSp</th>\n",
       "      <th>Parch</th>\n",
       "      <th>Ticket</th>\n",
       "      <th>Fare</th>\n",
       "      <th>Cabin</th>\n",
       "      <th>Embarked</th>\n",
       "      <th>Family Size</th>\n",
       "      <th>Title</th>\n",
       "      <th>Survived</th>\n",
       "      <th>predicted</th>\n",
       "    </tr>\n",
       "  </thead>\n",
       "  <tbody>\n",
       "    <tr>\n",
       "      <th>29</th>\n",
       "      <td>3</td>\n",
       "      <td>female</td>\n",
       "      <td>31.000000</td>\n",
       "      <td>0</td>\n",
       "      <td>0</td>\n",
       "      <td>350407</td>\n",
       "      <td>7.8542</td>\n",
       "      <td>NaN</td>\n",
       "      <td>S</td>\n",
       "      <td>0</td>\n",
       "      <td>Miss</td>\n",
       "      <td>0</td>\n",
       "      <td>1</td>\n",
       "    </tr>\n",
       "    <tr>\n",
       "      <th>33</th>\n",
       "      <td>3</td>\n",
       "      <td>female</td>\n",
       "      <td>21.750000</td>\n",
       "      <td>0</td>\n",
       "      <td>0</td>\n",
       "      <td>W./C. 6609</td>\n",
       "      <td>7.5500</td>\n",
       "      <td>NaN</td>\n",
       "      <td>S</td>\n",
       "      <td>0</td>\n",
       "      <td>Miss</td>\n",
       "      <td>0</td>\n",
       "      <td>1</td>\n",
       "    </tr>\n",
       "    <tr>\n",
       "      <th>44</th>\n",
       "      <td>3</td>\n",
       "      <td>female</td>\n",
       "      <td>45.000000</td>\n",
       "      <td>0</td>\n",
       "      <td>1</td>\n",
       "      <td>2691</td>\n",
       "      <td>14.4542</td>\n",
       "      <td>NaN</td>\n",
       "      <td>C</td>\n",
       "      <td>1</td>\n",
       "      <td>Mrs</td>\n",
       "      <td>0</td>\n",
       "      <td>1</td>\n",
       "    </tr>\n",
       "    <tr>\n",
       "      <th>65</th>\n",
       "      <td>2</td>\n",
       "      <td>female</td>\n",
       "      <td>57.000000</td>\n",
       "      <td>0</td>\n",
       "      <td>0</td>\n",
       "      <td>S.O./P.P. 3</td>\n",
       "      <td>10.5000</td>\n",
       "      <td>E77</td>\n",
       "      <td>S</td>\n",
       "      <td>0</td>\n",
       "      <td>Mrs</td>\n",
       "      <td>0</td>\n",
       "      <td>1</td>\n",
       "    </tr>\n",
       "    <tr>\n",
       "      <th>70</th>\n",
       "      <td>2</td>\n",
       "      <td>female</td>\n",
       "      <td>26.000000</td>\n",
       "      <td>1</td>\n",
       "      <td>1</td>\n",
       "      <td>250651</td>\n",
       "      <td>26.0000</td>\n",
       "      <td>NaN</td>\n",
       "      <td>S</td>\n",
       "      <td>2</td>\n",
       "      <td>Mrs</td>\n",
       "      <td>0</td>\n",
       "      <td>1</td>\n",
       "    </tr>\n",
       "    <tr>\n",
       "      <th>76</th>\n",
       "      <td>3</td>\n",
       "      <td>female</td>\n",
       "      <td>30.500000</td>\n",
       "      <td>0</td>\n",
       "      <td>0</td>\n",
       "      <td>364850</td>\n",
       "      <td>7.7500</td>\n",
       "      <td>NaN</td>\n",
       "      <td>Q</td>\n",
       "      <td>0</td>\n",
       "      <td>Miss</td>\n",
       "      <td>0</td>\n",
       "      <td>1</td>\n",
       "    </tr>\n",
       "    <tr>\n",
       "      <th>78</th>\n",
       "      <td>2</td>\n",
       "      <td>female</td>\n",
       "      <td>38.000000</td>\n",
       "      <td>0</td>\n",
       "      <td>0</td>\n",
       "      <td>237671</td>\n",
       "      <td>13.0000</td>\n",
       "      <td>NaN</td>\n",
       "      <td>S</td>\n",
       "      <td>0</td>\n",
       "      <td>Miss</td>\n",
       "      <td>0</td>\n",
       "      <td>1</td>\n",
       "    </tr>\n",
       "    <tr>\n",
       "      <th>79</th>\n",
       "      <td>3</td>\n",
       "      <td>female</td>\n",
       "      <td>41.000000</td>\n",
       "      <td>0</td>\n",
       "      <td>2</td>\n",
       "      <td>370129</td>\n",
       "      <td>20.2125</td>\n",
       "      <td>NaN</td>\n",
       "      <td>S</td>\n",
       "      <td>2</td>\n",
       "      <td>Mrs</td>\n",
       "      <td>0</td>\n",
       "      <td>1</td>\n",
       "    </tr>\n",
       "    <tr>\n",
       "      <th>114</th>\n",
       "      <td>1</td>\n",
       "      <td>male</td>\n",
       "      <td>41.281386</td>\n",
       "      <td>0</td>\n",
       "      <td>0</td>\n",
       "      <td>PC 17483</td>\n",
       "      <td>221.7792</td>\n",
       "      <td>C95</td>\n",
       "      <td>S</td>\n",
       "      <td>0</td>\n",
       "      <td>Mr</td>\n",
       "      <td>0</td>\n",
       "      <td>1</td>\n",
       "    </tr>\n",
       "    <tr>\n",
       "      <th>128</th>\n",
       "      <td>3</td>\n",
       "      <td>female</td>\n",
       "      <td>21.750000</td>\n",
       "      <td>1</td>\n",
       "      <td>0</td>\n",
       "      <td>2689</td>\n",
       "      <td>14.4583</td>\n",
       "      <td>NaN</td>\n",
       "      <td>C</td>\n",
       "      <td>1</td>\n",
       "      <td>Mrs</td>\n",
       "      <td>0</td>\n",
       "      <td>1</td>\n",
       "    </tr>\n",
       "    <tr>\n",
       "      <th>139</th>\n",
       "      <td>3</td>\n",
       "      <td>female</td>\n",
       "      <td>18.000000</td>\n",
       "      <td>1</td>\n",
       "      <td>0</td>\n",
       "      <td>349237</td>\n",
       "      <td>17.8000</td>\n",
       "      <td>NaN</td>\n",
       "      <td>S</td>\n",
       "      <td>1</td>\n",
       "      <td>Mrs</td>\n",
       "      <td>0</td>\n",
       "      <td>1</td>\n",
       "    </tr>\n",
       "    <tr>\n",
       "      <th>141</th>\n",
       "      <td>2</td>\n",
       "      <td>female</td>\n",
       "      <td>44.000000</td>\n",
       "      <td>1</td>\n",
       "      <td>0</td>\n",
       "      <td>244252</td>\n",
       "      <td>26.0000</td>\n",
       "      <td>NaN</td>\n",
       "      <td>S</td>\n",
       "      <td>1</td>\n",
       "      <td>Mrs</td>\n",
       "      <td>0</td>\n",
       "      <td>1</td>\n",
       "    </tr>\n",
       "    <tr>\n",
       "      <th>159</th>\n",
       "      <td>3</td>\n",
       "      <td>female</td>\n",
       "      <td>32.000000</td>\n",
       "      <td>1</td>\n",
       "      <td>1</td>\n",
       "      <td>364849</td>\n",
       "      <td>15.5000</td>\n",
       "      <td>NaN</td>\n",
       "      <td>Q</td>\n",
       "      <td>2</td>\n",
       "      <td>Mrs</td>\n",
       "      <td>0</td>\n",
       "      <td>1</td>\n",
       "    </tr>\n",
       "    <tr>\n",
       "      <th>173</th>\n",
       "      <td>3</td>\n",
       "      <td>female</td>\n",
       "      <td>9.000000</td>\n",
       "      <td>1</td>\n",
       "      <td>1</td>\n",
       "      <td>2678</td>\n",
       "      <td>15.2458</td>\n",
       "      <td>NaN</td>\n",
       "      <td>C</td>\n",
       "      <td>2</td>\n",
       "      <td>Miss</td>\n",
       "      <td>0</td>\n",
       "      <td>1</td>\n",
       "    </tr>\n",
       "    <tr>\n",
       "      <th>184</th>\n",
       "      <td>1</td>\n",
       "      <td>male</td>\n",
       "      <td>24.000000</td>\n",
       "      <td>0</td>\n",
       "      <td>1</td>\n",
       "      <td>PC 17558</td>\n",
       "      <td>247.5208</td>\n",
       "      <td>B58 B60</td>\n",
       "      <td>C</td>\n",
       "      <td>1</td>\n",
       "      <td>Mr</td>\n",
       "      <td>0</td>\n",
       "      <td>1</td>\n",
       "    </tr>\n",
       "    <tr>\n",
       "      <th>210</th>\n",
       "      <td>1</td>\n",
       "      <td>male</td>\n",
       "      <td>27.000000</td>\n",
       "      <td>0</td>\n",
       "      <td>2</td>\n",
       "      <td>113503</td>\n",
       "      <td>211.5000</td>\n",
       "      <td>C82</td>\n",
       "      <td>C</td>\n",
       "      <td>2</td>\n",
       "      <td>Mr</td>\n",
       "      <td>0</td>\n",
       "      <td>1</td>\n",
       "    </tr>\n",
       "    <tr>\n",
       "      <th>221</th>\n",
       "      <td>2</td>\n",
       "      <td>female</td>\n",
       "      <td>24.000000</td>\n",
       "      <td>0</td>\n",
       "      <td>0</td>\n",
       "      <td>248747</td>\n",
       "      <td>13.0000</td>\n",
       "      <td>NaN</td>\n",
       "      <td>S</td>\n",
       "      <td>0</td>\n",
       "      <td>Miss</td>\n",
       "      <td>0</td>\n",
       "      <td>1</td>\n",
       "    </tr>\n",
       "  </tbody>\n",
       "</table>\n",
       "</div>"
      ],
      "text/plain": [
       "     Pclass     Sex        Age  SibSp  Parch       Ticket      Fare    Cabin  \\\n",
       "29        3  female  31.000000      0      0       350407    7.8542      NaN   \n",
       "33        3  female  21.750000      0      0   W./C. 6609    7.5500      NaN   \n",
       "44        3  female  45.000000      0      1         2691   14.4542      NaN   \n",
       "65        2  female  57.000000      0      0  S.O./P.P. 3   10.5000      E77   \n",
       "70        2  female  26.000000      1      1       250651   26.0000      NaN   \n",
       "76        3  female  30.500000      0      0       364850    7.7500      NaN   \n",
       "78        2  female  38.000000      0      0       237671   13.0000      NaN   \n",
       "79        3  female  41.000000      0      2       370129   20.2125      NaN   \n",
       "114       1    male  41.281386      0      0     PC 17483  221.7792      C95   \n",
       "128       3  female  21.750000      1      0         2689   14.4583      NaN   \n",
       "139       3  female  18.000000      1      0       349237   17.8000      NaN   \n",
       "141       2  female  44.000000      1      0       244252   26.0000      NaN   \n",
       "159       3  female  32.000000      1      1       364849   15.5000      NaN   \n",
       "173       3  female   9.000000      1      1         2678   15.2458      NaN   \n",
       "184       1    male  24.000000      0      1     PC 17558  247.5208  B58 B60   \n",
       "210       1    male  27.000000      0      2       113503  211.5000      C82   \n",
       "221       2  female  24.000000      0      0       248747   13.0000      NaN   \n",
       "\n",
       "    Embarked  Family Size Title  Survived  predicted  \n",
       "29         S            0  Miss         0          1  \n",
       "33         S            0  Miss         0          1  \n",
       "44         C            1   Mrs         0          1  \n",
       "65         S            0   Mrs         0          1  \n",
       "70         S            2   Mrs         0          1  \n",
       "76         Q            0  Miss         0          1  \n",
       "78         S            0  Miss         0          1  \n",
       "79         S            2   Mrs         0          1  \n",
       "114        S            0    Mr         0          1  \n",
       "128        C            1   Mrs         0          1  \n",
       "139        S            1   Mrs         0          1  \n",
       "141        S            1   Mrs         0          1  \n",
       "159        Q            2   Mrs         0          1  \n",
       "173        C            2  Miss         0          1  \n",
       "184        C            1    Mr         0          1  \n",
       "210        C            2    Mr         0          1  \n",
       "221        S            0  Miss         0          1  "
      ]
     },
     "execution_count": 52,
     "metadata": {},
     "output_type": "execute_result"
    }
   ],
   "source": [
    "missclassified"
   ]
  },
  {
   "cell_type": "markdown",
   "id": "ff590a24-c510-48ff-8613-33adc8b94947",
   "metadata": {},
   "source": [
    "<h2>Guassian Naive Bayes Classifier</h2>"
   ]
  },
  {
   "cell_type": "code",
   "execution_count": 53,
   "id": "ec2863e9-a05b-412d-ab14-20b828dfc621",
   "metadata": {},
   "outputs": [
    {
     "data": {
      "text/plain": [
       "GaussianNB()"
      ]
     },
     "execution_count": 53,
     "metadata": {},
     "output_type": "execute_result"
    }
   ],
   "source": [
    "nb = GaussianNB()\n",
    "nb.fit(X_train_transformed, y_train)"
   ]
  },
  {
   "cell_type": "code",
   "execution_count": 54,
   "id": "7161db2c-65b8-40d2-899c-57a4bcb7dfd4",
   "metadata": {},
   "outputs": [
    {
     "data": {
      "text/plain": [
       "0.8026905829596412"
      ]
     },
     "execution_count": 54,
     "metadata": {},
     "output_type": "execute_result"
    }
   ],
   "source": [
    "nb.score(X_test_transformed, y_test)"
   ]
  },
  {
   "cell_type": "code",
   "execution_count": 55,
   "id": "67b8579f-5182-4049-b253-9323c4dffd28",
   "metadata": {},
   "outputs": [],
   "source": [
    "y_pred = nb.predict(X_test_transformed)"
   ]
  },
  {
   "cell_type": "code",
   "execution_count": 56,
   "id": "abe118a5-d6cf-41e9-abe4-3545f33d7e9b",
   "metadata": {},
   "outputs": [
    {
     "data": {
      "text/plain": [
       "GaussianNB()"
      ]
     },
     "execution_count": 56,
     "metadata": {},
     "output_type": "execute_result"
    }
   ],
   "source": [
    "nb_partial_fit = GaussianNB()\n",
    "nb_partial_fit.partial_fit(X_train_transformed, y_train, y_train.unique())"
   ]
  },
  {
   "cell_type": "markdown",
   "id": "1fa15d25-107f-470f-be83-c17548780ada",
   "metadata": {},
   "source": [
    "The partially scored Guassian Naive Bayes classifier performs as well as the fully scored version"
   ]
  },
  {
   "cell_type": "code",
   "execution_count": 57,
   "id": "0eb2d7b5-112c-4469-bc52-e3e15fe6e53d",
   "metadata": {},
   "outputs": [
    {
     "data": {
      "text/plain": [
       "0.8026905829596412"
      ]
     },
     "execution_count": 57,
     "metadata": {},
     "output_type": "execute_result"
    }
   ],
   "source": [
    "nb_partial_fit.score(X_test_transformed, y_test)"
   ]
  },
  {
   "cell_type": "markdown",
   "id": "4f75979d-e585-4e6c-81a0-bd6459b9c8f5",
   "metadata": {},
   "source": [
    "And both versions are receiving the same accuracy as K-Nearest Neighbors"
   ]
  },
  {
   "cell_type": "code",
   "execution_count": 58,
   "id": "3030a07a-0d22-4e00-8777-3f77eb961b4e",
   "metadata": {},
   "outputs": [
    {
     "data": {
      "text/plain": [
       "True"
      ]
     },
     "execution_count": 58,
     "metadata": {},
     "output_type": "execute_result"
    }
   ],
   "source": [
    "nb_partial_fit.score(X_test_transformed, y_test) == n_neighbors_search.score(X_test_transformed, y_test)"
   ]
  },
  {
   "cell_type": "code",
   "execution_count": 59,
   "id": "9da1001c-8180-4930-ac8c-0ec69926b02f",
   "metadata": {},
   "outputs": [
    {
     "data": {
      "text/plain": [
       "True"
      ]
     },
     "execution_count": 59,
     "metadata": {},
     "output_type": "execute_result"
    }
   ],
   "source": [
    "nb.score(X_test_transformed, y_test) == n_neighbors_search.score(X_test_transformed, y_test)"
   ]
  },
  {
   "cell_type": "markdown",
   "id": "4210ea3b-d679-471d-9547-033fa00bd525",
   "metadata": {},
   "source": [
    "The Guassian Naive Bayes Classifier and the K-Nearest Neighbors Classifier are making the same number of errors on the test dataset, but on different examples"
   ]
  },
  {
   "cell_type": "code",
   "execution_count": 60,
   "id": "39db1cd0-939e-43d1-b174-32873682dcb5",
   "metadata": {},
   "outputs": [],
   "source": [
    "nb_results = pd.concat([pd.Series(nb.predict(X_test_transformed)), y_test.reset_index(drop = True)], axis = 1)\n",
    "nb_results.columns = ['nb_predicted', 'true']"
   ]
  },
  {
   "cell_type": "code",
   "execution_count": 61,
   "id": "65abfca5-7a9b-45cf-8e26-200092e1ca99",
   "metadata": {},
   "outputs": [
    {
     "data": {
      "text/plain": [
       "(209, 223)"
      ]
     },
     "execution_count": 61,
     "metadata": {},
     "output_type": "execute_result"
    }
   ],
   "source": [
    "comp = pd.concat([knn_results, nb_results.nb_predicted], axis = 1)\n",
    "comp[comp.nb_predicted == comp.knn_predicted].shape[0], comp.shape[0]"
   ]
  },
  {
   "cell_type": "code",
   "execution_count": 62,
   "id": "fd43ee5a-615d-4264-8b4f-4c5a50e521cd",
   "metadata": {},
   "outputs": [
    {
     "data": {
      "text/html": [
       "<div>\n",
       "<style scoped>\n",
       "    .dataframe tbody tr th:only-of-type {\n",
       "        vertical-align: middle;\n",
       "    }\n",
       "\n",
       "    .dataframe tbody tr th {\n",
       "        vertical-align: top;\n",
       "    }\n",
       "\n",
       "    .dataframe thead th {\n",
       "        text-align: right;\n",
       "    }\n",
       "</style>\n",
       "<table border=\"1\" class=\"dataframe\">\n",
       "  <thead>\n",
       "    <tr style=\"text-align: right;\">\n",
       "      <th></th>\n",
       "      <th>knn_predicted</th>\n",
       "      <th>true</th>\n",
       "      <th>nb_predicted</th>\n",
       "    </tr>\n",
       "  </thead>\n",
       "  <tbody>\n",
       "    <tr>\n",
       "      <th>4</th>\n",
       "      <td>0</td>\n",
       "      <td>1</td>\n",
       "      <td>1</td>\n",
       "    </tr>\n",
       "    <tr>\n",
       "      <th>12</th>\n",
       "      <td>0</td>\n",
       "      <td>0</td>\n",
       "      <td>1</td>\n",
       "    </tr>\n",
       "    <tr>\n",
       "      <th>22</th>\n",
       "      <td>0</td>\n",
       "      <td>1</td>\n",
       "      <td>1</td>\n",
       "    </tr>\n",
       "    <tr>\n",
       "      <th>29</th>\n",
       "      <td>0</td>\n",
       "      <td>0</td>\n",
       "      <td>1</td>\n",
       "    </tr>\n",
       "    <tr>\n",
       "      <th>31</th>\n",
       "      <td>0</td>\n",
       "      <td>1</td>\n",
       "      <td>1</td>\n",
       "    </tr>\n",
       "    <tr>\n",
       "      <th>33</th>\n",
       "      <td>0</td>\n",
       "      <td>0</td>\n",
       "      <td>1</td>\n",
       "    </tr>\n",
       "    <tr>\n",
       "      <th>49</th>\n",
       "      <td>0</td>\n",
       "      <td>0</td>\n",
       "      <td>1</td>\n",
       "    </tr>\n",
       "    <tr>\n",
       "      <th>50</th>\n",
       "      <td>0</td>\n",
       "      <td>1</td>\n",
       "      <td>1</td>\n",
       "    </tr>\n",
       "    <tr>\n",
       "      <th>133</th>\n",
       "      <td>0</td>\n",
       "      <td>1</td>\n",
       "      <td>1</td>\n",
       "    </tr>\n",
       "    <tr>\n",
       "      <th>144</th>\n",
       "      <td>0</td>\n",
       "      <td>0</td>\n",
       "      <td>1</td>\n",
       "    </tr>\n",
       "    <tr>\n",
       "      <th>176</th>\n",
       "      <td>0</td>\n",
       "      <td>1</td>\n",
       "      <td>1</td>\n",
       "    </tr>\n",
       "    <tr>\n",
       "      <th>178</th>\n",
       "      <td>0</td>\n",
       "      <td>1</td>\n",
       "      <td>1</td>\n",
       "    </tr>\n",
       "    <tr>\n",
       "      <th>201</th>\n",
       "      <td>0</td>\n",
       "      <td>0</td>\n",
       "      <td>1</td>\n",
       "    </tr>\n",
       "    <tr>\n",
       "      <th>214</th>\n",
       "      <td>0</td>\n",
       "      <td>0</td>\n",
       "      <td>1</td>\n",
       "    </tr>\n",
       "  </tbody>\n",
       "</table>\n",
       "</div>"
      ],
      "text/plain": [
       "     knn_predicted  true  nb_predicted\n",
       "4                0     1             1\n",
       "12               0     0             1\n",
       "22               0     1             1\n",
       "29               0     0             1\n",
       "31               0     1             1\n",
       "33               0     0             1\n",
       "49               0     0             1\n",
       "50               0     1             1\n",
       "133              0     1             1\n",
       "144              0     0             1\n",
       "176              0     1             1\n",
       "178              0     1             1\n",
       "201              0     0             1\n",
       "214              0     0             1"
      ]
     },
     "execution_count": 62,
     "metadata": {},
     "output_type": "execute_result"
    }
   ],
   "source": [
    "comp[comp.nb_predicted != comp.knn_predicted]"
   ]
  },
  {
   "cell_type": "markdown",
   "id": "3867e968-2fd5-4f96-a450-5d3cbae50443",
   "metadata": {},
   "source": [
    "<h2>Voting Classifier with K-Nearest Neighbors and Gaussian Naive Bayes Classifiers</h2>"
   ]
  },
  {
   "cell_type": "code",
   "execution_count": 63,
   "id": "bc48e782-9001-416f-83f5-f7f403f6cdca",
   "metadata": {},
   "outputs": [
    {
     "data": {
      "text/plain": [
       "VotingClassifier(estimators=[('k-nearest neighbors',\n",
       "                              GridSearchCV(cv=5,\n",
       "                                           estimator=KNeighborsClassifier(),\n",
       "                                           n_jobs=-1,\n",
       "                                           param_grid={'n_neighbors': array([ 1,  2,  3,  4,  5,  6,  7,  8,  9, 10, 11, 12, 13, 14, 15, 16, 17,\n",
       "       18, 19])})),\n",
       "                             ('naive bayes', GaussianNB())])"
      ]
     },
     "execution_count": 63,
     "metadata": {},
     "output_type": "execute_result"
    }
   ],
   "source": [
    "classifiers = [('k-nearest neighbors', n_neighbors_search), ('naive bayes', nb)]\n",
    "\n",
    "voting_v2 = VotingClassifier(classifiers)\n",
    "voting_v2.fit(X_train_transformed, y_train)"
   ]
  },
  {
   "cell_type": "code",
   "execution_count": 64,
   "id": "8e55709d-eeb7-4052-8fe2-10a76238dd6b",
   "metadata": {},
   "outputs": [
    {
     "data": {
      "text/plain": [
       "0.8026905829596412"
      ]
     },
     "execution_count": 64,
     "metadata": {},
     "output_type": "execute_result"
    }
   ],
   "source": [
    "voting_v2.score(X_test_transformed, y_test)"
   ]
  },
  {
   "cell_type": "code",
   "execution_count": 65,
   "id": "720f353f-7891-43e5-ab21-4ef0c4773de2",
   "metadata": {},
   "outputs": [
    {
     "data": {
      "text/plain": [
       "True"
      ]
     },
     "execution_count": 65,
     "metadata": {},
     "output_type": "execute_result"
    }
   ],
   "source": [
    "voting_v2.score(X_test_transformed, y_test) == voting.score(X_test_transformed, y_test)"
   ]
  },
  {
   "cell_type": "markdown",
   "id": "423f2b1b-d8bd-4024-8ac6-ad0f8f91ee8b",
   "metadata": {},
   "source": [
    "This classifier is <em>always</em> using the predictions from K-Nearest Neighbors and completely ignorring the Gaussian classifier"
   ]
  },
  {
   "cell_type": "code",
   "execution_count": 66,
   "id": "7c2cd524-ea77-4185-9bc6-cd5db93d4e49",
   "metadata": {},
   "outputs": [
    {
     "data": {
      "text/plain": [
       "(223, 223)"
      ]
     },
     "execution_count": 66,
     "metadata": {},
     "output_type": "execute_result"
    }
   ],
   "source": [
    "voting_v2_results = pd.concat([pd.Series(voting_v2.predict(X_test_transformed)), y_test.reset_index(drop = True)], \n",
    "                               axis = 1)\n",
    "voting_v2_results.columns = ['voting_v2_predicted', 'true']\n",
    "\n",
    "comp = pd.concat([knn_results, voting_v2_results.voting_v2_predicted], axis = 1)\n",
    "comp[comp.voting_v2_predicted == comp.knn_predicted].shape[0], comp.shape[0]"
   ]
  },
  {
   "cell_type": "markdown",
   "id": "ded38836-6d65-4d8b-b0cc-bc7a6599b2f8",
   "metadata": {},
   "source": [
    "<h2>Voting Classifier with Linear Regression, Random Forest & Gaussian Naive Bayes Classifiers</h2>\n",
    "<p>Since K-Nearest Neighbors appears to dominate the other two voting classifiers, let's try a version without it to see what results we get</p>"
   ]
  },
  {
   "cell_type": "code",
   "execution_count": 67,
   "id": "a137b463-50b2-4abf-b06a-c81b002261d3",
   "metadata": {},
   "outputs": [
    {
     "data": {
      "text/plain": [
       "VotingClassifier(estimators=[('forest',\n",
       "                              GridSearchCV(cv=2,\n",
       "                                           estimator=RandomForestClassifier(criterion='entropy',\n",
       "                                                                            random_state=42),\n",
       "                                           n_jobs=-1,\n",
       "                                           param_grid={'n_estimators': array([ 1,  2,  3,  4,  5,  6,  7,  8,  9, 10, 11, 12, 13, 14, 15, 16, 17,\n",
       "       18, 19])})),\n",
       "                             ('naive bayes', GaussianNB()),\n",
       "                             ('logistic regression',\n",
       "                              LogisticRegression(random_state=42))])"
      ]
     },
     "execution_count": 67,
     "metadata": {},
     "output_type": "execute_result"
    }
   ],
   "source": [
    "classifiers = [('forest', n_estimators_search), ('naive bayes', nb), ('logistic regression', reg)]\n",
    "\n",
    "voting_v3 = VotingClassifier(classifiers)\n",
    "voting_v3.fit(X_train_transformed, y_train)"
   ]
  },
  {
   "cell_type": "markdown",
   "id": "3fb90700-af85-4df8-81fe-49dcbd5da39a",
   "metadata": {},
   "source": [
    "An improvement!"
   ]
  },
  {
   "cell_type": "code",
   "execution_count": 68,
   "id": "d1c225c2-2522-41f0-a053-de36bbf1a412",
   "metadata": {},
   "outputs": [
    {
     "data": {
      "text/plain": [
       "0.8116591928251121"
      ]
     },
     "execution_count": 68,
     "metadata": {},
     "output_type": "execute_result"
    }
   ],
   "source": [
    "voting_v3.score(X_test_transformed, y_test)"
   ]
  },
  {
   "cell_type": "markdown",
   "id": "379f17e2-3457-44dd-9e2d-639188da9f07",
   "metadata": {},
   "source": [
    "<h2>Final Predictions</h2>\n",
    "In the end, I decided to use the last voting classifier I fitted for my predictions"
   ]
  },
  {
   "cell_type": "code",
   "execution_count": 84,
   "id": "0b6f54ca-4a74-4cfd-8e97-82f9e769b531",
   "metadata": {},
   "outputs": [],
   "source": [
    "test_df = pd.read_csv(\"data/test.csv\")"
   ]
  },
  {
   "cell_type": "code",
   "execution_count": 85,
   "id": "6ebbdfda-0e58-48e2-9639-91dbb88880b6",
   "metadata": {},
   "outputs": [
    {
     "data": {
      "text/html": [
       "<div>\n",
       "<style scoped>\n",
       "    .dataframe tbody tr th:only-of-type {\n",
       "        vertical-align: middle;\n",
       "    }\n",
       "\n",
       "    .dataframe tbody tr th {\n",
       "        vertical-align: top;\n",
       "    }\n",
       "\n",
       "    .dataframe thead th {\n",
       "        text-align: right;\n",
       "    }\n",
       "</style>\n",
       "<table border=\"1\" class=\"dataframe\">\n",
       "  <thead>\n",
       "    <tr style=\"text-align: right;\">\n",
       "      <th></th>\n",
       "      <th>PassengerId</th>\n",
       "      <th>Pclass</th>\n",
       "      <th>Name</th>\n",
       "      <th>Sex</th>\n",
       "      <th>Age</th>\n",
       "      <th>SibSp</th>\n",
       "      <th>Parch</th>\n",
       "      <th>Ticket</th>\n",
       "      <th>Fare</th>\n",
       "      <th>Cabin</th>\n",
       "      <th>Embarked</th>\n",
       "    </tr>\n",
       "  </thead>\n",
       "  <tbody>\n",
       "    <tr>\n",
       "      <th>0</th>\n",
       "      <td>892</td>\n",
       "      <td>3</td>\n",
       "      <td>Kelly, Mr. James</td>\n",
       "      <td>male</td>\n",
       "      <td>34.5</td>\n",
       "      <td>0</td>\n",
       "      <td>0</td>\n",
       "      <td>330911</td>\n",
       "      <td>7.8292</td>\n",
       "      <td>NaN</td>\n",
       "      <td>Q</td>\n",
       "    </tr>\n",
       "    <tr>\n",
       "      <th>1</th>\n",
       "      <td>893</td>\n",
       "      <td>3</td>\n",
       "      <td>Wilkes, Mrs. James (Ellen Needs)</td>\n",
       "      <td>female</td>\n",
       "      <td>47.0</td>\n",
       "      <td>1</td>\n",
       "      <td>0</td>\n",
       "      <td>363272</td>\n",
       "      <td>7.0000</td>\n",
       "      <td>NaN</td>\n",
       "      <td>S</td>\n",
       "    </tr>\n",
       "    <tr>\n",
       "      <th>2</th>\n",
       "      <td>894</td>\n",
       "      <td>2</td>\n",
       "      <td>Myles, Mr. Thomas Francis</td>\n",
       "      <td>male</td>\n",
       "      <td>62.0</td>\n",
       "      <td>0</td>\n",
       "      <td>0</td>\n",
       "      <td>240276</td>\n",
       "      <td>9.6875</td>\n",
       "      <td>NaN</td>\n",
       "      <td>Q</td>\n",
       "    </tr>\n",
       "    <tr>\n",
       "      <th>3</th>\n",
       "      <td>895</td>\n",
       "      <td>3</td>\n",
       "      <td>Wirz, Mr. Albert</td>\n",
       "      <td>male</td>\n",
       "      <td>27.0</td>\n",
       "      <td>0</td>\n",
       "      <td>0</td>\n",
       "      <td>315154</td>\n",
       "      <td>8.6625</td>\n",
       "      <td>NaN</td>\n",
       "      <td>S</td>\n",
       "    </tr>\n",
       "    <tr>\n",
       "      <th>4</th>\n",
       "      <td>896</td>\n",
       "      <td>3</td>\n",
       "      <td>Hirvonen, Mrs. Alexander (Helga E Lindqvist)</td>\n",
       "      <td>female</td>\n",
       "      <td>22.0</td>\n",
       "      <td>1</td>\n",
       "      <td>1</td>\n",
       "      <td>3101298</td>\n",
       "      <td>12.2875</td>\n",
       "      <td>NaN</td>\n",
       "      <td>S</td>\n",
       "    </tr>\n",
       "  </tbody>\n",
       "</table>\n",
       "</div>"
      ],
      "text/plain": [
       "   PassengerId  Pclass                                          Name     Sex  \\\n",
       "0          892       3                              Kelly, Mr. James    male   \n",
       "1          893       3              Wilkes, Mrs. James (Ellen Needs)  female   \n",
       "2          894       2                     Myles, Mr. Thomas Francis    male   \n",
       "3          895       3                              Wirz, Mr. Albert    male   \n",
       "4          896       3  Hirvonen, Mrs. Alexander (Helga E Lindqvist)  female   \n",
       "\n",
       "    Age  SibSp  Parch   Ticket     Fare Cabin Embarked  \n",
       "0  34.5      0      0   330911   7.8292   NaN        Q  \n",
       "1  47.0      1      0   363272   7.0000   NaN        S  \n",
       "2  62.0      0      0   240276   9.6875   NaN        Q  \n",
       "3  27.0      0      0   315154   8.6625   NaN        S  \n",
       "4  22.0      1      1  3101298  12.2875   NaN        S  "
      ]
     },
     "execution_count": 85,
     "metadata": {},
     "output_type": "execute_result"
    }
   ],
   "source": [
    "test_df.head()"
   ]
  },
  {
   "cell_type": "code",
   "execution_count": 87,
   "id": "7f57d98e-7c88-4897-b148-4636e8b30e5c",
   "metadata": {},
   "outputs": [],
   "source": [
    "test_df = fill_missing_vals(test_df)\n",
    "test_df = add_features(test_df)\n",
    "\n",
    "passenger_ids = test_df.PassengerId\n",
    "test_df = test_df.drop(columns = ['PassengerId', 'Name'])\n",
    "test_df = pipe.transform(test_df)"
   ]
  },
  {
   "cell_type": "code",
   "execution_count": 96,
   "id": "70857319-27e0-461b-a371-5e3c58f10615",
   "metadata": {},
   "outputs": [],
   "source": [
    "final_predictions = pd.DataFrame(voting_v3.predict(test_df), columns = ['Survived'])\n",
    "outputs = pd.concat([passenger_ids, final_predictions], axis = 1)\n",
    "\n",
    "outputs.to_csv(\"final_predicitions.csv\", index = False)"
   ]
  },
  {
   "cell_type": "code",
   "execution_count": null,
   "id": "395f2188-e9e7-4a5d-b70c-ae5a11acd9f0",
   "metadata": {},
   "outputs": [],
   "source": []
  }
 ],
 "metadata": {
  "kernelspec": {
   "display_name": "Python 3 (ipykernel)",
   "language": "python",
   "name": "python3"
  },
  "language_info": {
   "codemirror_mode": {
    "name": "ipython",
    "version": 3
   },
   "file_extension": ".py",
   "mimetype": "text/x-python",
   "name": "python",
   "nbconvert_exporter": "python",
   "pygments_lexer": "ipython3",
   "version": "3.8.13"
  }
 },
 "nbformat": 4,
 "nbformat_minor": 5
}
