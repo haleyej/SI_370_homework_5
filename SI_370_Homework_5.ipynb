{
 "cells": [
  {
   "cell_type": "markdown",
   "metadata": {},
   "source": [
    "# SI 370 - Homework #5: Classifiers\n",
    "or: How I Learned to Stop Worrying and Love Machine Learning\n",
    "\n",
    "v.20221107.1"
   ]
  },
  {
   "cell_type": "markdown",
   "metadata": {},
   "source": [
    "This is, perhaps, one of the most exciting homework assignments that you have\n",
    "encountered in this course!\n",
    "\n",
    "You are going to try your hand at a Kaggle competition to predict Titanic survivorship.\n",
    "(Recall that we've played with Titanic data earlier in this course -- this data set is\n",
    "slightly different.)\n",
    "\n",
    "(NOTE: if you prefer to not submit your work to the Kaggle competition that's fine --\n",
    "just contact Chris via email (cteplovs@umich.edu) and we will work out an alternative.)\n",
    "\n",
    "To start with, make sure you have a [Kaggle](https://www.kaggle.com/) account, \n",
    "then navigate to the [Titanic: Machine Learning from Disaster](https://www.kaggle.com/c/titanic/overview) project page.\n",
    "\n",
    "We'll view the [introductory video](https://www.youtube.com/watch?v=8yZMXCaFshs) \n",
    "together in class.\n",
    "\n",
    "The basic steps for this assignment are outlined in the video:\n",
    "\n",
    "1. Accept the rules and join the competition\n",
    "2. Download the data (from the data tab of the competition page)\n",
    "3. Understand the problem\n",
    "4. EDA (Exploratory Data Analysis)\n",
    "5. Train, tune, and ensemble (!) your machine learning models\n",
    "6. Upload your prediction as a submission on Kaggle and receive an accuracy score\n",
    "\n",
    "additionally, you will\n",
    "\n",
    "7. Upload your final notebook to Canvas and report your best accuracy score.  \n",
    "\n",
    "Note that class grades are not entirely dependent on your accuracy score.  \n",
    "All models that achieve 75% accuracy will receive full points for \n",
    "the accuracy component of this assignment.\n",
    "\n",
    "Rubric:\n",
    "\n",
    "A detailed rubric is available via the Canvas Assignment.\n",
    "\n",
    "Some additional notes:\n",
    "\n",
    "1. If you use another notebook, code, or approaches be sure to reference the original work. (Note that we recommend you study existing Kaggle notebooks before starting your own work.)\n",
    "2. You can help each other but in the end you must submit your own work, both to Kaggle and to Canvas.\n",
    "\n",
    "Some additional resources:\n",
    "\n",
    "* \"ensemble\" your models with a [VotingClassifier](https://scikit-learn.org/stable/modules/generated/sklearn.ensemble.VotingClassifier.html)\n",
    "* a good primer on [feature engineering](https://triangleinequality.wordpress.com/2013/09/08/basic-feature-engineering-with-the-titanic-data/)\n",
    "* There are a lot of good [notebooks to study](https://www.kaggle.com/c/titanic/notebooks) (check the number of upvotes to help guide your exploration)\n",
    "\n",
    "## GOOD LUCK!\n",
    "(and don't cheat... cheating on this assignment will result in a grade of zero.)"
   ]
  },
  {
   "cell_type": "markdown",
   "metadata": {},
   "source": [
    "One final note:  Your submission should be a self-contained notebook that is NOT based\n",
    "on this one.  Studying the existing Kaggle competition notebooks should \n",
    "give you a sense of what makes a \"good\" notebook."
   ]
  },
  {
   "cell_type": "code",
   "execution_count": null,
   "metadata": {},
   "outputs": [],
   "source": []
  }
 ],
 "metadata": {
  "kernelspec": {
   "display_name": "Python 3 (ipykernel)",
   "language": "python",
   "name": "python3"
  },
  "language_info": {
   "codemirror_mode": {
    "name": "ipython",
    "version": 3
   },
   "file_extension": ".py",
   "mimetype": "text/x-python",
   "name": "python",
   "nbconvert_exporter": "python",
   "pygments_lexer": "ipython3",
   "version": "3.8.13"
  }
 },
 "nbformat": 4,
 "nbformat_minor": 4
}
